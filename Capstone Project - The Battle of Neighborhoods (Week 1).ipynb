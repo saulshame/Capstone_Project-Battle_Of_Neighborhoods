{
 "cells": [
  {
   "cell_type": "markdown",
   "metadata": {},
   "source": [
    "# The Battle of Neighborhoods"
   ]
  },
  {
   "cell_type": "markdown",
   "metadata": {},
   "source": [
    "## Introduction / Business Problem"
   ]
  },
  {
   "cell_type": "markdown",
   "metadata": {},
   "source": [
    "New York City is one of the most densely populated areas in World. It is also quite diverse and probably one of the meccas for great food and wine. This brings a lot of competition as many successfully and renowned chefs and sommeliers come to New York City as the opportunities are great. This makes it hard to make it if you are just starting out in that industry. The competition is fierce and it is hard to figure out where open up a restaurant or wine bar in any of the neighborhoods in New York City. \n",
    "\n",
    "The objective of this project is to use Foursquare location data and regional clustering of venue information to determine what might be the ‘best’ neighbourhood in New York City to open a wine bar. Wine bars becoming very popular in New York City, especially in the very hip neighborhoods like Brooklyn. There are numerous opportunities to open a wine bar but location is a very big factor that determines one's success or failure. Through this project, we will find the most suitable location for an entrepreneur to open a new wine bar in New York City."
   ]
  },
  {
   "cell_type": "markdown",
   "metadata": {},
   "source": [
    "## Data Overview"
   ]
  },
  {
   "cell_type": "markdown",
   "metadata": {},
   "source": [
    "The data that will be required will be a combination of JSON and CSV files that have been prepared for the purposes of the analysis from multiple sources which will provide the list of neighbourhoods in New York City (via Wikipedia), the Geographical location of the neighbourhoods (via Geocoder package) and Venue data pertaining to Wine Bars (via Foursquare). The Venue data will help find which neighbourhood is best suitable to open a Wine Bar."
   ]
  },
  {
   "cell_type": "markdown",
   "metadata": {},
   "source": [
    "## Description Of The Data"
   ]
  },
  {
   "cell_type": "markdown",
   "metadata": {},
   "source": [
    "The following data is required to answer the issues of the problem:\n",
    "\n",
    "* List of Boroughs and neighborhoods of Manhattan with their geodata (latitude and longitude)\n",
    "* List of Subway metro stations in Manhattan with their address location\n",
    "* List of restaurants and wine bars in New York City neighbourhoods with their addresses\n",
    "* Venues for each Manhattan neighborhood ( than can be clustered)\n",
    "* Venues for subway metro stations, as needed"
   ]
  },
  {
   "cell_type": "markdown",
   "metadata": {},
   "source": [
    "### Source 1: New York City Neighborhoods"
   ]
  },
  {
   "cell_type": "markdown",
   "metadata": {},
   "source": [
    "The New York City data that was various sources including Wikipedia will be utilized to gather all the required information about the neighbourhoods. The data includes information on Boroughs, Neighborhoods, and the Geographical Locations. Since the data is not in a format that is suitable for analysis, it had to be transformed first."
   ]
  },
  {
   "cell_type": "markdown",
   "metadata": {},
   "source": [
    "### Source 2: Venue Data Using Foursquare"
   ]
  },
  {
   "cell_type": "markdown",
   "metadata": {},
   "source": [
    "We are going to obtain data from Foursquare regarding restaurants, wine bars, subways and other various points of interests. We will performed a bit of data cleansing. \n",
    "\n",
    "We used the Foursquare API to get a list of all the Venues in New York City which included Restaurants, Wines bars, bars, Subways etc. Getting this data is going to be crucial in analyzing the number of Wine Bars all over New York City. We will then merged the Foursquare Venue data with the Neighborhood data which will then give us the nearest Venue for each of the Neighborhoods."
   ]
  },
  {
   "cell_type": "markdown",
   "metadata": {},
   "source": [
    "## How Data Will Be Used"
   ]
  },
  {
   "cell_type": "markdown",
   "metadata": {},
   "source": [
    "The data will be used as follows:\n",
    "\n",
    "* Use Foursquare and geo location data to map restaurants and wine bars in all Manhattan neighborhoods and clustered in groups \n",
    "* Use foursquare and geo location data to map the location of subway metro stations , separately and on top of the above clustered map in order to be able to identify the places that are easy to get to using the subway\n",
    "* Use Foursquare and geo location data to map the location of restaurant hot spots and link to the subway locations.\n",
    "* Create a map that depicts, for instance, the restaurant hot spot with no wine bars and is close to subway stations.\n",
    "* Data will be searched in open data sources if available, e.g. Wikipedia, libraries or other government agencies such as Metro New York MTA, etc."
   ]
  },
  {
   "cell_type": "code",
   "execution_count": null,
   "metadata": {},
   "outputs": [],
   "source": []
  }
 ],
 "metadata": {
  "kernelspec": {
   "display_name": "Python 3",
   "language": "python",
   "name": "python3"
  },
  "language_info": {
   "codemirror_mode": {
    "name": "ipython",
    "version": 3
   },
   "file_extension": ".py",
   "mimetype": "text/x-python",
   "name": "python",
   "nbconvert_exporter": "python",
   "pygments_lexer": "ipython3",
   "version": "3.8.5"
  }
 },
 "nbformat": 4,
 "nbformat_minor": 4
}
